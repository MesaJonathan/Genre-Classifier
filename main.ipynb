{
 "cells": [
  {
   "cell_type": "markdown",
   "id": "6f102167",
   "metadata": {
    "scrolled": true
   },
   "source": [
    "# How to load an audio file"
   ]
  },
  {
   "cell_type": "code",
   "execution_count": 2,
   "id": "9613d2f1",
   "metadata": {},
   "outputs": [],
   "source": [
    "import librosa\n",
    "\n",
    "signal, sample_rate = librosa.load(\"Data/genres_original/blues/blues.00000.wav\")"
   ]
  },
  {
   "cell_type": "code",
   "execution_count": 3,
   "id": "94b7d2fa",
   "metadata": {},
   "outputs": [
    {
     "data": {
      "text/plain": [
       "array([ 0.00732422,  0.01660156,  0.00762939, ..., -0.05560303,\n",
       "       -0.06106567, -0.06417847], dtype=float32)"
      ]
     },
     "execution_count": 3,
     "metadata": {},
     "output_type": "execute_result"
    }
   ],
   "source": [
    "signal #from this data we have to extract features like from individual assignemnt 3"
   ]
  },
  {
   "cell_type": "code",
   "execution_count": 4,
   "id": "6ce0a785",
   "metadata": {},
   "outputs": [
    {
     "data": {
      "text/plain": [
       "22050"
      ]
     },
     "execution_count": 4,
     "metadata": {},
     "output_type": "execute_result"
    }
   ],
   "source": [
    "sample_rate  #another figure that will help represent data"
   ]
  },
  {
   "cell_type": "markdown",
   "id": "0863fae4",
   "metadata": {},
   "source": [
    "# How to load an image file"
   ]
  },
  {
   "cell_type": "code",
   "execution_count": null,
   "id": "570bf77f",
   "metadata": {},
   "outputs": [],
   "source": [
    "import cv2 as cv\n",
    "\n",
    "img = cv.imread(\"Data/images_original/blues/blues.00000.wav\")"
   ]
  }
 ],
 "metadata": {
  "kernelspec": {
   "display_name": "Python 3",
   "language": "python",
   "name": "python3"
  },
  "language_info": {
   "codemirror_mode": {
    "name": "ipython",
    "version": 3
   },
   "file_extension": ".py",
   "mimetype": "text/x-python",
   "name": "python",
   "nbconvert_exporter": "python",
   "pygments_lexer": "ipython3",
   "version": "3.8.8"
  }
 },
 "nbformat": 4,
 "nbformat_minor": 5
}
